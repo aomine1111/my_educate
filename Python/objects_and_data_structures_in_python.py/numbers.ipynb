{
 "cells": [
  {
   "cell_type": "markdown",
   "id": "89a07498",
   "metadata": {},
   "source": [
    "## Типы чисел\n",
    "Integer - целые числа, положительные или отрицательные. Например 2 и -2 это пример целых чисел.\n",
    "\n",
    "Числа с плавающей точкой отличаются тем, что имеют разделение целой или дробной части, или используют экспоненту (e) для определение числа. Например 2.0 и 2.1 - это примеры чисел \n",
    "<table>\n",
    "<tr>\n",
    "    <th>Примеры</th> \n",
    "    <th>\"Тип\" числа</th>\n",
    "</tr>\n",
    "\n",
    "<tr>\n",
    "    <td>1,2,-5,1000</td>\n",
    "    <td>Целые числа<br>(Integers)</td> \n",
    "</tr>\n",
    "\n",
    "<tr>\n",
    "    <td>1.2,-0.5,2e2,3E2</td> \n",
    "    <td>Числа с плавающей точкой<br>(Floating-point numbers)</td> \n",
    "</tr>\n",
    " </table>"
   ]
  },
  {
   "cell_type": "markdown",
   "id": "cc443cd7",
   "metadata": {},
   "source": [
    "### Основные арифметические действия"
   ]
  },
  {
   "cell_type": "code",
   "execution_count": null,
   "id": "5acfd368",
   "metadata": {},
   "outputs": [
    {
     "data": {
      "text/plain": [
       "3"
      ]
     },
     "execution_count": 1,
     "metadata": {},
     "output_type": "execute_result"
    }
   ],
   "source": [
    "# Сложение\n",
    "2+1"
   ]
  },
  {
   "cell_type": "code",
   "execution_count": null,
   "id": "4326a350",
   "metadata": {},
   "outputs": [
    {
     "data": {
      "text/plain": [
       "-1"
      ]
     },
     "execution_count": 2,
     "metadata": {},
     "output_type": "execute_result"
    }
   ],
   "source": [
    "# Вычитание\n",
    "8-9 "
   ]
  },
  {
   "cell_type": "code",
   "execution_count": 3,
   "id": "3bbe820f",
   "metadata": {},
   "outputs": [
    {
     "data": {
      "text/plain": [
       "21"
      ]
     },
     "execution_count": 3,
     "metadata": {},
     "output_type": "execute_result"
    }
   ],
   "source": [
    "# Умножение\n",
    "7 * 3"
   ]
  },
  {
   "cell_type": "code",
   "execution_count": 5,
   "id": "97c8d2ea",
   "metadata": {},
   "outputs": [
    {
     "data": {
      "text/plain": [
       "11"
      ]
     },
     "execution_count": 5,
     "metadata": {},
     "output_type": "execute_result"
    }
   ],
   "source": [
    "# Целочисленное деление\n",
    "56//5"
   ]
  },
  {
   "cell_type": "markdown",
   "id": "f9b15e2b",
   "metadata": {},
   "source": [
    "Оператор // (два прямых слеша) отбрасывает дробную часть без округления, и мы получаем целое число."
   ]
  },
  {
   "cell_type": "markdown",
   "id": "708b9b27",
   "metadata": {},
   "source": [
    "**Что если мы хотим узнать остаток от деления?**"
   ]
  },
  {
   "cell_type": "code",
   "execution_count": 6,
   "id": "0c2941cd",
   "metadata": {},
   "outputs": [
    {
     "data": {
      "text/plain": [
       "11.2"
      ]
     },
     "execution_count": 6,
     "metadata": {},
     "output_type": "execute_result"
    }
   ],
   "source": [
    "# Остаток\n",
    "56/5"
   ]
  },
  {
   "cell_type": "code",
   "execution_count": 7,
   "id": "ae50db2b",
   "metadata": {},
   "outputs": [
    {
     "data": {
      "text/plain": [
       "8"
      ]
     },
     "execution_count": 7,
     "metadata": {},
     "output_type": "execute_result"
    }
   ],
   "source": [
    "# Возведение в степень\n",
    "2 ** 3"
   ]
  },
  {
   "cell_type": "code",
   "execution_count": 8,
   "id": "70fabbef",
   "metadata": {},
   "outputs": [
    {
     "data": {
      "text/plain": [
       "(1, 5)"
      ]
     },
     "execution_count": 8,
     "metadata": {},
     "output_type": "execute_result"
    }
   ],
   "source": [
    "# Этим же способом можно извлекать корень\n",
    "4 ** 0,5"
   ]
  },
  {
   "cell_type": "code",
   "execution_count": 9,
   "id": "7189f067",
   "metadata": {},
   "outputs": [
    {
     "data": {
      "text/plain": [
       "105"
      ]
     },
     "execution_count": 9,
     "metadata": {},
     "output_type": "execute_result"
    }
   ],
   "source": [
    "# В Python соблюдается порядок операций - например, умножение выполняется раньше, чем сложение\n",
    "2 + 10 * 10 + 3"
   ]
  },
  {
   "cell_type": "code",
   "execution_count": 10,
   "id": "b107ac4e",
   "metadata": {},
   "outputs": [
    {
     "data": {
      "text/plain": [
       "156"
      ]
     },
     "execution_count": 10,
     "metadata": {},
     "output_type": "execute_result"
    }
   ],
   "source": [
    "# Можно использовать скобки, чтобы указать нужный порядок выполнения операций\n",
    "(2+10) * (10+3)"
   ]
  }
 ],
 "metadata": {
  "kernelspec": {
   "display_name": "Python 3",
   "language": "python",
   "name": "python3"
  },
  "language_info": {
   "codemirror_mode": {
    "name": "ipython",
    "version": 3
   },
   "file_extension": ".py",
   "mimetype": "text/x-python",
   "name": "python",
   "nbconvert_exporter": "python",
   "pygments_lexer": "ipython3",
   "version": "3.13.5"
  }
 },
 "nbformat": 4,
 "nbformat_minor": 5
}
